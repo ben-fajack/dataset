{
  "nbformat": 4,
  "nbformat_minor": 0,
  "metadata": {
    "colab": {
      "provenance": [],
      "authorship_tag": "ABX9TyM2ZlpS20xl9M4Qi6hwkqSm",
      "include_colab_link": true
    },
    "kernelspec": {
      "name": "python3",
      "display_name": "Python 3"
    },
    "language_info": {
      "name": "python"
    }
  },
  "cells": [
    {
      "cell_type": "markdown",
      "metadata": {
        "id": "view-in-github",
        "colab_type": "text"
      },
      "source": [
        "<a href=\"https://colab.research.google.com/github/ben-fajack/dataset/blob/main/Datasets.ipynb\" target=\"_parent\"><img src=\"https://colab.research.google.com/assets/colab-badge.svg\" alt=\"Open In Colab\"/></a>"
      ]
    },
    {
      "cell_type": "markdown",
      "source": [
        "# **Datasets**"
      ],
      "metadata": {
        "id": "q9FFYchMAkDx"
      }
    },
    {
      "cell_type": "markdown",
      "source": [
        "Second choice: dataset 1\n",
        "1. Source of data\n",
        "\n",
        "2. Brief description of data\n",
        "\n",
        "3. What is the target?\n",
        "\n",
        "4. What does one row represent? (A person? A business? An event? A product?)\n",
        "\n",
        "5. Is this a classification or regression problem?\n",
        "\n",
        "6. How many features does the data have?\n",
        "\n",
        "7. How many rows are in the dataset?\n",
        "\n",
        "8. What, if any, challenges do you foresee in cleaning, exploring, or modeling this dataset?"
      ],
      "metadata": {
        "id": "iVQar4uaCxUI"
      }
    },
    {
      "cell_type": "markdown",
      "source": [
        "1. UCI machine learning repository"
      ],
      "metadata": {
        "id": "Ykg6zqOrDHF4"
      }
    },
    {
      "cell_type": "markdown",
      "source": [
        "2. An individual’s annual income results from various factors. Intuitively, it is influenced by the individual’s education level, age, gender, occupation, and etc."
      ],
      "metadata": {
        "id": "BZYNUAl1DMpB"
      }
    },
    {
      "cell_type": "markdown",
      "source": [
        "3. Target filed: Income"
      ],
      "metadata": {
        "id": "MLu9CxJRDTGY"
      }
    },
    {
      "cell_type": "markdown",
      "source": [
        "4. Single person"
      ],
      "metadata": {
        "id": "Gj84C4MGDWgn"
      }
    },
    {
      "cell_type": "markdown",
      "source": [
        "5. Regression"
      ],
      "metadata": {
        "id": "SXElu79NDZWh"
      }
    },
    {
      "cell_type": "markdown",
      "source": [
        "6. 14"
      ],
      "metadata": {
        "id": "mEX8eO6oDboX"
      }
    },
    {
      "cell_type": "markdown",
      "source": [
        "7. 48,843"
      ],
      "metadata": {
        "id": "otHfsZhxDeCY"
      }
    },
    {
      "cell_type": "markdown",
      "source": [
        "8. Finding a predictive model that filters out the most noise may be labor-intensive but should yield good results on a dataset that is so dense with usable data."
      ],
      "metadata": {
        "id": "7ajE8rUVDxoS"
      }
    },
    {
      "cell_type": "markdown",
      "source": [
        "Second choice: dataset 2\n",
        "1. Source of data\n",
        "\n",
        "2. Brief description of data\n",
        "\n",
        "3. What is the target?\n",
        "\n",
        "4. What does one row represent? (A person? A business? An event? A product?)\n",
        "\n",
        "5. Is this a classification or regression problem?\n",
        "\n",
        "6. How many features does the data have?\n",
        "\n",
        "7. How many rows are in the dataset?\n",
        "\n",
        "8. What, if any, challenges do you foresee in cleaning, exploring, or modeling this dataset?"
      ],
      "metadata": {
        "id": "eAjmYz8tAqi5"
      }
    },
    {
      "cell_type": "markdown",
      "source": [
        "1. Taarifa waterpoints dashboard, which aggregates data from the Tanzania Ministry of Water."
      ],
      "metadata": {
        "id": "yFDN29CXAw6p"
      }
    },
    {
      "cell_type": "markdown",
      "source": [
        "2. Installation and maintenance of water pumps"
      ],
      "metadata": {
        "id": "0N3My1PjA6Ah"
      }
    },
    {
      "cell_type": "markdown",
      "source": [
        "3. Pump operationality"
      ],
      "metadata": {
        "id": "ibt4MQI8BGKY"
      }
    },
    {
      "cell_type": "markdown",
      "source": [
        "4. Single Pump"
      ],
      "metadata": {
        "id": "ACaoYSPIBRr7"
      }
    },
    {
      "cell_type": "markdown",
      "source": [
        "5.  This could be classification or regression depending on whether one wants to predict the cinary function.non-function or predict potential down times and maintenance needs."
      ],
      "metadata": {
        "id": "K015kKj9BXiR"
      }
    },
    {
      "cell_type": "markdown",
      "source": [
        "6. 39"
      ],
      "metadata": {
        "id": "_gQoKf_0BsyB"
      }
    },
    {
      "cell_type": "markdown",
      "source": [
        "7. 59,401"
      ],
      "metadata": {
        "id": "4N6_RmEzCdAx"
      }
    },
    {
      "cell_type": "markdown",
      "source": [
        "8.  There appear to be a wide array of inconsistencies with the categorical data."
      ],
      "metadata": {
        "id": "BNndeC8RClc4"
      }
    },
    {
      "cell_type": "markdown",
      "source": [
        "1."
      ],
      "metadata": {
        "id": "uZYqZKuAC4Uo"
      }
    }
  ]
}